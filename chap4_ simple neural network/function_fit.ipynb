{
 "cells": [
  {
   "cell_type": "markdown",
   "metadata": {},
   "source": [
    "# 函数拟合\n",
    "在使用$Relu$进行函数拟合时，我们选取一个非线性函数$f(x)=sin(cos(x))$作为拟合目标，自行在目标函数上随机采样生成训练集和测试集，我们分别通过TensorFlow中的深度学习框架和自行实现的全连接神经网络进行拟合，训练，并输出最后拟合的结果"
   ]
  },
  {
   "cell_type": "code",
   "execution_count": 2,
   "metadata": {},
   "outputs": [],
   "source": [
    "import numpy as np\n",
    "import tensorflow as tf\n",
    "from tensorflow import keras\n",
    "from tensorflow.keras import layers, optimizers\n",
    "import matplotlib.pyplot as plt"
   ]
  },
  {
   "cell_type": "code",
   "execution_count": 17,
   "metadata": {},
   "outputs": [],
   "source": [
    "# 定义目标函数\n",
    "def target_function(x):\n",
    "    return np.sin(np.cos(x))\n"
   ]
  },
  {
   "cell_type": "code",
   "execution_count": 18,
   "metadata": {},
   "outputs": [],
   "source": [
    "# 生成训练集和测试集\n",
    "np.random.seed(0)  # 设置随机种子，以确保可重复性\n",
    "x_train = np.random.uniform(-2*np.pi, 2*np.pi, size=(1000, 1))  # 在区间[-2π, 2π]内随机采样生成训练数据\n",
    "y_train = target_function(x_train) + np.random.normal(0, 0.1, size=(1000, 1))  # 添加一些噪声\n",
    "\n",
    "x_test = np.random.uniform(-2*np.pi, 2*np.pi, size=(100, 1))  # 生成测试数据\n",
    "y_test = target_function(x_test)  # 计算测试数据的标签，没有添加噪声\n"
   ]
  },
  {
   "cell_type": "markdown",
   "metadata": {},
   "source": [
    "### (1)基于TensorFlow的深度学习框架进行训练"
   ]
  },
  {
   "cell_type": "code",
   "execution_count": 19,
   "metadata": {},
   "outputs": [
    {
     "name": "stdout",
     "output_type": "stream",
     "text": [
      "Test Loss: 0.005409896373748779\n"
     ]
    }
   ],
   "source": [
    "tf_model = keras.Sequential([\n",
    "    layers.Dense(10,activation='relu',input_shape=(1,)),\n",
    "    layers.Dense(10,activation='relu'),\n",
    "    layers.Dense(1)\n",
    "])\n",
    "\n",
    "# 编译模型\n",
    "tf_model.compile(optimizer='adam', loss='mean_squared_error')\n",
    "\n",
    "#模型训练\n",
    "history = tf_model.fit(x_train, y_train, epochs=100, batch_size=32, validation_data=(x_test, y_test), verbose=0)\n",
    "\n",
    "#模型评估\n",
    "test_loss = tf_model.evaluate(x_test,y_test,verbose=0)\n",
    "\n",
    "print(\"Test Loss:\",test_loss)\n",
    "\n"
   ]
  },
  {
   "cell_type": "code",
   "execution_count": 20,
   "metadata": {},
   "outputs": [
    {
     "data": {
      "image/png": "[encoded data removed]",
      "text/plain": [
       "<Figure size 640x480 with 1 Axes>"
      ]
     },
     "metadata": {},
     "output_type": "display_data"
    }
   ],
   "source": [
    "plt.plot(history.history['loss'], label='train_loss')\n",
    "plt.plot(history.history['val_loss'], label='val_loss')\n",
    "plt.xlabel('Epochs')\n",
    "plt.ylabel('Loss')\n",
    "plt.legend()\n",
    "plt.show()\n",
    "\n"
   ]
  },
  {
   "cell_type": "markdown",
   "metadata": {},
   "source": [
    "### (3)基于NumPy实现的relu拟合非线性函数"
   ]
  },
  {
   "cell_type": "code",
   "execution_count": 22,
   "metadata": {},
   "outputs": [],
   "source": [
    "class Relu:\n",
    "    def __init__(self):\n",
    "        self.mem = {}\n",
    "        \n",
    "    def forward(self, x):\n",
    "        self.mem['x']=x\n",
    "        return np.where(x > 0, x, np.zeros_like(x))\n",
    "    \n",
    "    def backward(self, grad_y):\n",
    "        '''\n",
    "        grad_y: same shape as x\n",
    "        '''\n",
    "        ####################\n",
    "        '''计算relu 激活函数对应的梯度'''\n",
    "        ####################\n",
    "        x = self.mem['x']\n",
    "        grad_x = np.where(x>0,grad_y,0)\n",
    "        return grad_x\n",
    "    "
   ]
  },
  {
   "cell_type": "code",
   "execution_count": 32,
   "metadata": {},
   "outputs": [
    {
     "name": "stdout",
     "output_type": "stream",
     "text": [
      "(100, 1)\n"
     ]
    }
   ],
   "source": [
    "class myModel:\n",
    "    def __init__(self):\n",
    "        self.fc1 = Relu()\n",
    "        self.fc2 = Relu()\n",
    "        self.w1 = np.random.randn(10,1)\n",
    "        self.w2 = np.random.randn(1,10)\n",
    "        self.b1 = np.zeros((10,1))\n",
    "        self.b2 = np.zeros((1,1))\n",
    "        \n",
    "        \n",
    "    def forward(self, x):\n",
    "        h1 = np.dot(self.w1,x) + self.b1;\n",
    "        f_h1 = self.fc1.forward(h1)\n",
    "        h2 = np.dot(self.w2,f_h1) + self.b2\n",
    "        return h2\n",
    "            \n",
    "    def train(self,x,y,learning_rate = 0.01,epochs=1000):\n",
    "        for epoch in range(epochs):\n",
    "            # Forward pass\n",
    "            predictions = self.forward(x)\n",
    "            \n",
    "            # Compute loss (mean squared error)\n",
    "            loss = np.mean((predictions - y) ** 2)\n",
    "            \n",
    "            # Backward pass\n",
    "            grad_loss = 2 * (predictions - y) / len(x)  # Gradient of mean squared error\n",
    "            \n",
    "            grad_h2 = grad_loss\n",
    "            grad_w2 = np.dot(grad_h2, f_h1.T)\n",
    "            grad_b2 = np.sum(grad_h2, axis=1, keepdims=True)\n",
    "            \n",
    "            grad_f_h1 = np.dot(self.w2.T, grad_h2)\n",
    "            grad_h1 = self.fc1.backward(grad_f_h1)\n",
    "            grad_w1 = np.dot(grad_h1, x.T)\n",
    "            grad_b1 = np.sum(grad_h1, axis=1, keepdims=True)\n",
    "            \n",
    "            # Update parameters using gradient descent\n",
    "            self.w1 -= learning_rate * grad_w1\n",
    "            self.b1 -= learning_rate * grad_b1\n",
    "            self.w2 -= learning_rate * grad_w2\n",
    "            self.b2 -= learning_rate * grad_b2\n",
    "            \n",
    "            if epoch % 100 == 0:\n",
    "                print(f'Epoch {epoch}, Loss: {loss}')\n",
    "        \n",
    "        \n",
    "my_model = myModel()\n",
    "print(x_train.shape)\n",
    "# my_model.train(x_train, y_train, learning_rate=0.01, epochs=1000)\n",
    "\n",
    "# # 在测试集上进行预测\n",
    "# predictions = my_model.forward(x_test)\n",
    "\n",
    "# # 绘制拟合结果\n",
    "# plt.scatter(x_test, y_test, label='True Data')\n",
    "# plt.plot(x_test, predictions, color='red', label='Model Prediction')\n",
    "# plt.xlabel('x')\n",
    "# plt.ylabel('y')\n",
    "# plt.legend()\n",
    "# plt.show()\n"
   ]
  }
 ],
 "metadata": {
  "kernelspec": {
   "display_name": "deep-learning",
   "language": "python",
   "name": "python3"
  },
  "language_info": {
   "codemirror_mode": {
    "name": "ipython",
    "version": 3
   },
   "file_extension": ".py",
   "mimetype": "text/x-python",
   "name": "python",
   "nbconvert_exporter": "python",
   "pygments_lexer": "ipython3",
   "version": "3.9.18"
  }
 },
 "nbformat": 4,
 "nbformat_minor": 2
}
