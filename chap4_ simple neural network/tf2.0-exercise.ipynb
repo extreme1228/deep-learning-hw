{
 "cells": [
  {
   "cell_type": "markdown",
   "metadata": {},
   "source": [
    "# Tensorflow2.0 小练习"
   ]
  },
  {
   "cell_type": "code",
   "execution_count": 16,
   "metadata": {},
   "outputs": [],
   "source": [
    "import tensorflow as tf\n",
    "import numpy as np"
   ]
  },
  {
   "cell_type": "markdown",
   "metadata": {},
   "source": [
    "## 实现softmax函数"
   ]
  },
  {
   "cell_type": "code",
   "execution_count": 54,
   "metadata": {},
   "outputs": [
    {
     "name": "stdout",
     "output_type": "stream",
     "text": [
      "Results are consistent.\n"
     ]
    }
   ],
   "source": [
    "def softmax(x):\n",
    "    ##########\n",
    "    '''实现softmax函数，只要求对最后一维归一化，\n",
    "    不允许用tf自带的softmax函数'''\n",
    "    ##########\n",
    "    max_vals = np.max(x,axis=-1,keepdims=True)\n",
    "    exp_x = np.exp(x - max_vals)\n",
    "    sum_exp_x = np.sum(exp_x,axis=-1,keepdims=True)\n",
    "    prob_x = exp_x / sum_exp_x\n",
    "    return prob_x\n",
    "\n",
    "test_data = np.random.normal(size=[10, 5])\n",
    "test_data_tf = tf.convert_to_tensor(test_data)\n",
    "\n",
    "# 使用 softmax 函数进行计算\n",
    "result_custom = softmax(test_data)\n",
    "result_tf = tf.nn.softmax(test_data_tf, axis=-1)\n",
    "\n",
    "# 检查结果是否一致\n",
    "diff_squared = np.sum((result_custom - result_tf)**2)\n",
    "if diff_squared < 0.0001:\n",
    "    print(\"Results are consistent.\")\n",
    "else:\n",
    "    print(\"Results are not consistent.\")"
   ]
  },
  {
   "cell_type": "markdown",
   "metadata": {},
   "source": [
    "## 实现sigmoid函数"
   ]
  },
  {
   "cell_type": "code",
   "execution_count": 21,
   "metadata": {},
   "outputs": [
    {
     "name": "stdout",
     "output_type": "stream",
     "text": [
      "Results are consistent.\n"
     ]
    }
   ],
   "source": [
    "def sigmoid(x):\n",
    "    ##########\n",
    "    '''实现sigmoid函数， 不允许用tf自带的sigmoid函数'''\n",
    "    ##########\n",
    "    prob_x = 1/(1 + np.exp(-x))\n",
    "    return prob_x\n",
    "\n",
    "test_data = np.random.normal(size=[10, 5])\n",
    "test_data_tf = tf.convert_to_tensor(test_data)\n",
    "\n",
    "result_custom = sigmoid(test_data_tf)\n",
    "result_tf = tf.sigmoid(test_data_tf)\n",
    "\n",
    "diff_squared = np.sum((result_custom - result_tf)**2)\n",
    "if diff_squared < 0.0001:\n",
    "    print(\"Results are consistent.\")\n",
    "else:\n",
    "    print(\"Results are not consistent.\")"
   ]
  },
  {
   "cell_type": "markdown",
   "metadata": {},
   "source": [
    "## 实现 softmax 交叉熵loss函数"
   ]
  },
  {
   "cell_type": "code",
   "execution_count": 68,
   "metadata": {},
   "outputs": [
    {
     "name": "stdout",
     "output_type": "stream",
     "text": [
      "Results are consistent.\n"
     ]
    }
   ],
   "source": [
    "def softmax_ce(x, label):\n",
    "    ##########\n",
    "    '''实现 softmax 交叉熵loss函数， 不允许用tf自带的softmax_cross_entropy函数'''\n",
    "    ##########\n",
    "    exp_x = np.exp(x - np.max(x, axis=1, keepdims=True))\n",
    "    softmax_x = exp_x / np.sum(exp_x, axis=1, keepdims=True)\n",
    "    loss = - np.sum(label * np.log(softmax_x + 1e-10),axis=1)\n",
    "    return np.mean(loss)\n",
    "    #return loss\n",
    "\n",
    "test_data = np.random.normal(size=[10, 5])\n",
    "label = np.zeros_like(test_data)\n",
    "label[np.arange(10), np.random.randint(0, 5, size=10)] = 1.\n",
    "\n",
    "# 比较结果\n",
    "diff_squared = (np.mean(tf.nn.softmax_cross_entropy_with_logits(label, test_data))\n",
    "                - softmax_ce(test_data, label))**2\n",
    "\n",
    "if diff_squared < 0.0001:\n",
    "    print(\"Results are consistent.\")\n",
    "else:\n",
    "    print(\"Results are not consistent.\")"
   ]
  },
  {
   "cell_type": "markdown",
   "metadata": {},
   "source": [
    "## 实现 sigmoid 交叉熵loss函数"
   ]
  },
  {
   "cell_type": "code",
   "execution_count": 67,
   "metadata": {},
   "outputs": [
    {
     "name": "stdout",
     "output_type": "stream",
     "text": [
      "Results are consistent.\n"
     ]
    }
   ],
   "source": [
    "def sigmoid_ce(x, label):\n",
    "    sig_x = 1 / (1 + np.exp(-x))\n",
    "    loss = - (label * np.log(sig_x + 1e-10) + (1 - label) * np.log(1 - sig_x + 1e-10))\n",
    "    return np.mean(loss)\n",
    "\n",
    "test_data = np.random.normal(size=[10, 5])\n",
    "\n",
    "label = np.random.rand(10, 5).astype(test_data.dtype)\n",
    "\n",
    "tf_loss = tf.reduce_mean(tf.nn.sigmoid_cross_entropy_with_logits(labels=label, logits=test_data))\n",
    "\n",
    "custom_loss = sigmoid_ce(test_data, label)\n",
    "\n",
    "diff_squared = (tf_loss - custom_loss) ** 2\n",
    "\n",
    "if diff_squared < 0.0001:\n",
    "    print(\"Results are consistent.\")\n",
    "else:\n",
    "    print(\"Results are not consistent.\")\n"
   ]
  },
  {
   "cell_type": "code",
   "execution_count": null,
   "metadata": {},
   "outputs": [],
   "source": []
  },
  {
   "cell_type": "code",
   "execution_count": null,
   "metadata": {},
   "outputs": [],
   "source": []
  }
 ],
 "metadata": {
  "kernelspec": {
   "display_name": "Python 3",
   "language": "python",
   "name": "python3"
  },
  "language_info": {
   "codemirror_mode": {
    "name": "ipython",
    "version": 3
   },
   "file_extension": ".py",
   "mimetype": "text/x-python",
   "name": "python",
   "nbconvert_exporter": "python",
   "pygments_lexer": "ipython3",
   "version": "3.9.18"
  }
 },
 "nbformat": 4,
 "nbformat_minor": 2
}
